{
 "cells": [
  {
   "cell_type": "code",
   "execution_count": 1,
   "id": "initial_id",
   "metadata": {
    "collapsed": true,
    "ExecuteTime": {
     "end_time": "2024-05-24T09:46:59.083514900Z",
     "start_time": "2024-05-24T09:46:54.646373600Z"
    }
   },
   "outputs": [],
   "source": [
    "import pandas as pd\n",
    "import numpy as np\n",
    "import nltk\n",
    "\n",
    "from nltk import word_tokenize\n"
   ]
  },
  {
   "cell_type": "code",
   "outputs": [
    {
     "name": "stderr",
     "output_type": "stream",
     "text": [
      "[nltk_data] Downloading package punkt to\n",
      "[nltk_data]     C:\\Users\\Sonia\\AppData\\Roaming\\nltk_data...\n",
      "[nltk_data]   Package punkt is already up-to-date!\n"
     ]
    },
    {
     "data": {
      "text/plain": "True"
     },
     "execution_count": 2,
     "metadata": {},
     "output_type": "execute_result"
    }
   ],
   "source": [
    "nltk.download('punkt')"
   ],
   "metadata": {
    "collapsed": false,
    "ExecuteTime": {
     "end_time": "2024-05-24T09:47:01.446060300Z",
     "start_time": "2024-05-24T09:47:01.250564700Z"
    }
   },
   "id": "9f81c50357346b04",
   "execution_count": 2
  },
  {
   "cell_type": "code",
   "outputs": [
    {
     "data": {
      "text/plain": "                                                text    labels\n0  Ad sales boost Time Warner profit\\n\\nQuarterly...  business\n1  Dollar gains on Greenspan speech\\n\\nThe dollar...  business\n2  Yukos unit buyer faces loan claim\\n\\nThe owner...  business\n3  High fuel prices hit BA's profits\\n\\nBritish A...  business\n4  Pernod takeover talk lifts Domecq\\n\\nShares in...  business",
      "text/html": "<div>\n<style scoped>\n    .dataframe tbody tr th:only-of-type {\n        vertical-align: middle;\n    }\n\n    .dataframe tbody tr th {\n        vertical-align: top;\n    }\n\n    .dataframe thead th {\n        text-align: right;\n    }\n</style>\n<table border=\"1\" class=\"dataframe\">\n  <thead>\n    <tr style=\"text-align: right;\">\n      <th></th>\n      <th>text</th>\n      <th>labels</th>\n    </tr>\n  </thead>\n  <tbody>\n    <tr>\n      <th>0</th>\n      <td>Ad sales boost Time Warner profit\\n\\nQuarterly...</td>\n      <td>business</td>\n    </tr>\n    <tr>\n      <th>1</th>\n      <td>Dollar gains on Greenspan speech\\n\\nThe dollar...</td>\n      <td>business</td>\n    </tr>\n    <tr>\n      <th>2</th>\n      <td>Yukos unit buyer faces loan claim\\n\\nThe owner...</td>\n      <td>business</td>\n    </tr>\n    <tr>\n      <th>3</th>\n      <td>High fuel prices hit BA's profits\\n\\nBritish A...</td>\n      <td>business</td>\n    </tr>\n    <tr>\n      <th>4</th>\n      <td>Pernod takeover talk lifts Domecq\\n\\nShares in...</td>\n      <td>business</td>\n    </tr>\n  </tbody>\n</table>\n</div>"
     },
     "execution_count": 3,
     "metadata": {},
     "output_type": "execute_result"
    }
   ],
   "source": [
    "df = pd.read_csv('bbc_text_cls.csv')\n",
    "df.head()"
   ],
   "metadata": {
    "collapsed": false,
    "ExecuteTime": {
     "end_time": "2024-05-24T09:47:16.220055100Z",
     "start_time": "2024-05-24T09:47:16.141541Z"
    }
   },
   "id": "bd52c21409fd9036",
   "execution_count": 3
  },
  {
   "cell_type": "code",
   "outputs": [],
   "source": [
    "# Populate word-to-index mapping, convert documents into sequences of ints / ids / indices\n",
    "index = 0\n",
    "word2index = {}\n",
    "tokenized_docs = []\n",
    "for doc in df['text']:\n",
    "    tokens = word_tokenize(doc.lower())\n",
    "    doc_as_int = []  # Tokens are in a dictionary, mapping only indices\n",
    "    for token in tokens:\n",
    "        if token not in word2index:\n",
    "            word2index[token] = index\n",
    "            index += 1\n",
    "        doc_as_int.append(word2index[token])\n",
    "    tokenized_docs.append(doc_as_int)"
   ],
   "metadata": {
    "collapsed": false,
    "ExecuteTime": {
     "end_time": "2024-05-24T10:29:35.792686800Z",
     "start_time": "2024-05-24T10:29:32.277573800Z"
    }
   },
   "id": "912579bf47d12c0f",
   "execution_count": 21
  },
  {
   "cell_type": "code",
   "outputs": [],
   "source": [
    "# Reverse mapping\n",
    "# index2word = {v:k for k, v in word2index.items()}  # Less efficient\n",
    "index2word = list(word2index.values()) # More efficient"
   ],
   "metadata": {
    "collapsed": false,
    "ExecuteTime": {
     "end_time": "2024-05-24T10:53:40.950564Z",
     "start_time": "2024-05-24T10:53:40.943561800Z"
    }
   },
   "id": "4f0b5bcb72e30136",
   "execution_count": 54
  },
  {
   "cell_type": "code",
   "outputs": [],
   "source": [
    "# Number of docs\n",
    "N = len(df['text'])"
   ],
   "metadata": {
    "collapsed": false,
    "ExecuteTime": {
     "end_time": "2024-05-24T10:53:41.298073500Z",
     "start_time": "2024-05-24T10:53:41.278570800Z"
    }
   },
   "id": "3a24121d66d2ad68",
   "execution_count": 55
  },
  {
   "cell_type": "code",
   "outputs": [],
   "source": [
    "# Number of words\n",
    "V = len(word2index)"
   ],
   "metadata": {
    "collapsed": false,
    "ExecuteTime": {
     "end_time": "2024-05-24T10:53:41.574061900Z",
     "start_time": "2024-05-24T10:53:41.568561700Z"
    }
   },
   "id": "a9585223c7820da6",
   "execution_count": 56
  },
  {
   "cell_type": "code",
   "outputs": [],
   "source": [
    "# Instantiate term-frequency matrix\n",
    "# Count vectorizer could also do this\n",
    "tf = np.zeros((N, V))"
   ],
   "metadata": {
    "collapsed": false,
    "ExecuteTime": {
     "end_time": "2024-05-24T10:53:41.934082200Z",
     "start_time": "2024-05-24T10:53:41.882073100Z"
    }
   },
   "id": "ca829c227588e34e",
   "execution_count": 57
  },
  {
   "cell_type": "code",
   "outputs": [],
   "source": [
    "# Populate term-frequency counts\n",
    "for index, doc_as_int in enumerate(tokenized_docs):\n",
    "    for token_index in doc_as_int:\n",
    "        tf[index, token_index] += 1\n"
   ],
   "metadata": {
    "collapsed": false,
    "ExecuteTime": {
     "end_time": "2024-05-24T10:53:42.606199300Z",
     "start_time": "2024-05-24T10:53:42.191628100Z"
    }
   },
   "id": "1cecfe3b2c9df671",
   "execution_count": 58
  },
  {
   "cell_type": "code",
   "outputs": [],
   "source": [
    "# Compute IDF\n",
    "document_freq = np.sum(tf > 0, axis=0) # Document frequency (shape = (V,)) !NOTE axis=0, so it doesn't sum all together\n",
    "idf = np.log(N / (1 + document_freq)) # Log to squash the value\n",
    "# Compute TF-IDF\n",
    "tf_idf = tf * idf"
   ],
   "metadata": {
    "collapsed": false,
    "ExecuteTime": {
     "end_time": "2024-05-24T10:53:42.990267200Z",
     "start_time": "2024-05-24T10:53:42.606199300Z"
    }
   },
   "id": "8610037444be5b29",
   "execution_count": 59
  },
  {
   "cell_type": "code",
   "outputs": [],
   "source": [
    "np.random.seed(8008)"
   ],
   "metadata": {
    "collapsed": false,
    "ExecuteTime": {
     "end_time": "2024-05-24T10:53:43.028773400Z",
     "start_time": "2024-05-24T10:53:43.017771100Z"
    }
   },
   "id": "c182b8af9b5ec60f",
   "execution_count": 60
  },
  {
   "cell_type": "code",
   "outputs": [
    {
     "name": "stdout",
     "output_type": "stream",
     "text": [
      "Label: sport\n",
      "Text: IAAF awaits Greek pair's response\n",
      "Top 5 terms:\n",
      "iaaf\n",
      "kenteris\n",
      "thanou\n",
      "greek\n",
      "tests\n"
     ]
    }
   ],
   "source": [
    "# Check a random doc, show the top 5 terms in terms of TF-IDF score\n",
    "i = np.random.choice(N)\n",
    "row = df.iloc[i]\n",
    "print(\"Label:\", row['labels'])\n",
    "print(\"Text:\", row['text'].split(\"\\n\", 1)[0])\n",
    "print(\"Top 5 terms:\")\n",
    "\n",
    "scores = tf_idf[i]\n",
    "indices = (-scores).argsort()\n",
    "\n",
    "for j in indices[:5]:\n",
    "    for value in word2index.values():\n",
    "        if value == j:\n",
    "            word = list(word2index.keys())[list(word2index.values()).index(value)]\n",
    "            print(word)"
   ],
   "metadata": {
    "collapsed": false,
    "ExecuteTime": {
     "end_time": "2024-05-24T10:53:43.729656800Z",
     "start_time": "2024-05-24T10:53:43.642642900Z"
    }
   },
   "id": "1084acd898e25acf",
   "execution_count": 61
  },
  {
   "cell_type": "code",
   "outputs": [],
   "source": [],
   "metadata": {
    "collapsed": false
   },
   "id": "c4a03ca0da3ff9d2"
  }
 ],
 "metadata": {
  "kernelspec": {
   "display_name": "Python 3",
   "language": "python",
   "name": "python3"
  },
  "language_info": {
   "codemirror_mode": {
    "name": "ipython",
    "version": 2
   },
   "file_extension": ".py",
   "mimetype": "text/x-python",
   "name": "python",
   "nbconvert_exporter": "python",
   "pygments_lexer": "ipython2",
   "version": "2.7.6"
  }
 },
 "nbformat": 4,
 "nbformat_minor": 5
}
