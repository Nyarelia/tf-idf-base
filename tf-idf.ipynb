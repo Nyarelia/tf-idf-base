{
 "cells": [
  {
   "cell_type": "code",
   "execution_count": 217,
   "id": "initial_id",
   "metadata": {
    "collapsed": true,
    "ExecuteTime": {
     "end_time": "2024-05-24T11:48:41.853561300Z",
     "start_time": "2024-05-24T11:48:41.817055800Z"
    }
   },
   "outputs": [],
   "source": [
    "import pandas as pd\n",
    "import numpy as np\n",
    "import nltk\n",
    "\n",
    "from sklearn.feature_extraction.text import CountVectorizer\n"
   ]
  },
  {
   "cell_type": "code",
   "outputs": [
    {
     "name": "stderr",
     "output_type": "stream",
     "text": [
      "[nltk_data] Downloading package punkt to\n",
      "[nltk_data]     C:\\Users\\Sonia\\AppData\\Roaming\\nltk_data...\n",
      "[nltk_data]   Package punkt is already up-to-date!\n"
     ]
    },
    {
     "data": {
      "text/plain": "True"
     },
     "execution_count": 218,
     "metadata": {},
     "output_type": "execute_result"
    }
   ],
   "source": [
    "nltk.download('punkt')"
   ],
   "metadata": {
    "collapsed": false,
    "ExecuteTime": {
     "end_time": "2024-05-24T11:48:41.873065100Z",
     "start_time": "2024-05-24T11:48:41.857061900Z"
    }
   },
   "id": "9f81c50357346b04",
   "execution_count": 218
  },
  {
   "cell_type": "code",
   "outputs": [
    {
     "data": {
      "text/plain": "                                                text    labels\n0  Ad sales boost Time Warner profit\\n\\nQuarterly...  business\n1  Dollar gains on Greenspan speech\\n\\nThe dollar...  business\n2  Yukos unit buyer faces loan claim\\n\\nThe owner...  business\n3  High fuel prices hit BA's profits\\n\\nBritish A...  business\n4  Pernod takeover talk lifts Domecq\\n\\nShares in...  business",
      "text/html": "<div>\n<style scoped>\n    .dataframe tbody tr th:only-of-type {\n        vertical-align: middle;\n    }\n\n    .dataframe tbody tr th {\n        vertical-align: top;\n    }\n\n    .dataframe thead th {\n        text-align: right;\n    }\n</style>\n<table border=\"1\" class=\"dataframe\">\n  <thead>\n    <tr style=\"text-align: right;\">\n      <th></th>\n      <th>text</th>\n      <th>labels</th>\n    </tr>\n  </thead>\n  <tbody>\n    <tr>\n      <th>0</th>\n      <td>Ad sales boost Time Warner profit\\n\\nQuarterly...</td>\n      <td>business</td>\n    </tr>\n    <tr>\n      <th>1</th>\n      <td>Dollar gains on Greenspan speech\\n\\nThe dollar...</td>\n      <td>business</td>\n    </tr>\n    <tr>\n      <th>2</th>\n      <td>Yukos unit buyer faces loan claim\\n\\nThe owner...</td>\n      <td>business</td>\n    </tr>\n    <tr>\n      <th>3</th>\n      <td>High fuel prices hit BA's profits\\n\\nBritish A...</td>\n      <td>business</td>\n    </tr>\n    <tr>\n      <th>4</th>\n      <td>Pernod takeover talk lifts Domecq\\n\\nShares in...</td>\n      <td>business</td>\n    </tr>\n  </tbody>\n</table>\n</div>"
     },
     "execution_count": 219,
     "metadata": {},
     "output_type": "execute_result"
    }
   ],
   "source": [
    "df = pd.read_csv('bbc_text_cls.csv')\n",
    "df.head()"
   ],
   "metadata": {
    "collapsed": false,
    "ExecuteTime": {
     "end_time": "2024-05-24T11:48:41.915572500Z",
     "start_time": "2024-05-24T11:48:41.863063300Z"
    }
   },
   "id": "bd52c21409fd9036",
   "execution_count": 219
  },
  {
   "cell_type": "code",
   "outputs": [],
   "source": [],
   "metadata": {
    "collapsed": false,
    "ExecuteTime": {
     "end_time": "2024-05-24T11:48:41.938076300Z",
     "start_time": "2024-05-24T11:48:41.914072200Z"
    }
   },
   "id": "6b4a449d5b4e77f9",
   "execution_count": 219
  },
  {
   "cell_type": "code",
   "outputs": [],
   "source": [
    "vectorizer = CountVectorizer()\n",
    "\n",
    "# Fit and transform your documents into term-frequency matrix\n",
    "tf = vectorizer.fit_transform(df['text'])\n",
    "\n",
    "# The dictionary mapping words to index\n",
    "word2index = vectorizer.vocabulary_\n"
   ],
   "metadata": {
    "collapsed": false,
    "ExecuteTime": {
     "end_time": "2024-05-24T11:48:42.549682300Z",
     "start_time": "2024-05-24T11:48:41.919072900Z"
    }
   },
   "id": "105966654afa84a0",
   "execution_count": 220
  },
  {
   "cell_type": "code",
   "outputs": [],
   "source": [
    "# Reverse mapping\n",
    "index2word = {v:k for k, v in word2index.items()}"
   ],
   "metadata": {
    "collapsed": false,
    "ExecuteTime": {
     "end_time": "2024-05-24T11:48:42.562685300Z",
     "start_time": "2024-05-24T11:48:42.550182700Z"
    }
   },
   "id": "4f0b5bcb72e30136",
   "execution_count": 221
  },
  {
   "cell_type": "code",
   "outputs": [],
   "source": [
    "# Number of docs\n",
    "N = len(df['text'])"
   ],
   "metadata": {
    "collapsed": false,
    "ExecuteTime": {
     "end_time": "2024-05-24T11:48:42.572186400Z",
     "start_time": "2024-05-24T11:48:42.560684400Z"
    }
   },
   "id": "3a24121d66d2ad68",
   "execution_count": 222
  },
  {
   "cell_type": "code",
   "outputs": [],
   "source": [
    "# Number of words\n",
    "V = len(word2index)"
   ],
   "metadata": {
    "collapsed": false,
    "ExecuteTime": {
     "end_time": "2024-05-24T11:48:42.573187Z",
     "start_time": "2024-05-24T11:48:42.568686Z"
    }
   },
   "id": "a9585223c7820da6",
   "execution_count": 223
  },
  {
   "cell_type": "code",
   "outputs": [],
   "source": [
    "np.random.seed(8008)"
   ],
   "metadata": {
    "collapsed": false,
    "ExecuteTime": {
     "end_time": "2024-05-24T11:48:42.580687600Z",
     "start_time": "2024-05-24T11:48:42.573187Z"
    }
   },
   "id": "c182b8af9b5ec60f",
   "execution_count": 224
  },
  {
   "cell_type": "code",
   "outputs": [
    {
     "name": "stdout",
     "output_type": "stream",
     "text": [
      "Label: sport\n",
      "Text: IAAF awaits Greek pair's response\n",
      "Top 5 terms:\n",
      "iaaf\n",
      "thanou\n",
      "kenteris\n",
      "greek\n",
      "tests\n"
     ]
    }
   ],
   "source": [
    "document_freq = np.sum((tf.toarray() > 0).astype(int), axis=0)\n",
    "idf = np.log(N / (1 + document_freq))\n",
    "\n",
    "# Now for the multiplication of tf and idf. As tf is sparse use the multiply function:\n",
    "tf_idf = tf.multiply(idf)\n",
    "tf_idf_csr = tf_idf.tocsr() # Convert to csr_matrix before subscripting\n",
    "\n",
    "# Check a random doc, show the top 5 terms in terms of TF-IDF score\n",
    "i = np.random.choice(N)\n",
    "row = df.iloc[i]\n",
    "print(\"Label:\", row['labels'])\n",
    "print(\"Text:\", row['text'].split(\"\\n\", 1)[0])\n",
    "print(\"Top 5 terms:\")\n",
    "scores = tf_idf_csr[i].toarray().ravel() # Extracting the row vector and flattening to a 1D Numpy array\n",
    "indices = np.argsort(-scores)\n",
    "for j in indices[:5]:\n",
    "    word = index2word[int(j)] # Convert numpy int to regular int\n",
    "    print(word)"
   ],
   "metadata": {
    "collapsed": false,
    "ExecuteTime": {
     "end_time": "2024-05-24T11:48:42.973256Z",
     "start_time": "2024-05-24T11:48:42.579687600Z"
    }
   },
   "id": "1084acd898e25acf",
   "execution_count": 225
  },
  {
   "cell_type": "code",
   "outputs": [],
   "source": [],
   "metadata": {
    "collapsed": false,
    "ExecuteTime": {
     "end_time": "2024-05-24T11:48:42.973756100Z",
     "start_time": "2024-05-24T11:48:42.965756Z"
    }
   },
   "id": "c4a03ca0da3ff9d2",
   "execution_count": 225
  }
 ],
 "metadata": {
  "kernelspec": {
   "display_name": "Python 3",
   "language": "python",
   "name": "python3"
  },
  "language_info": {
   "codemirror_mode": {
    "name": "ipython",
    "version": 2
   },
   "file_extension": ".py",
   "mimetype": "text/x-python",
   "name": "python",
   "nbconvert_exporter": "python",
   "pygments_lexer": "ipython2",
   "version": "2.7.6"
  }
 },
 "nbformat": 4,
 "nbformat_minor": 5
}
